{
 "cells": [
  {
   "cell_type": "markdown",
   "id": "f23b5b51-0fbe-4d2a-9e4f-e918fa8f136b",
   "metadata": {},
   "source": [
    "## Installation of Ollama\n",
    "\n",
    "Simply visit [ollama.com](https://ollama.com) and install!\n",
    "\n",
    "Once complete, the ollama server should already be running locally.  \n",
    "If you visit:  \n",
    "[http://localhost:11434/](http://localhost:11434/)\n",
    "\n",
    "You should see the message `Ollama is running`.  \n",
    "\n",
    "If not, bring up a new Terminal (Mac) or Powershell (Windows) and enter `ollama serve`  \n",
    "And in another Terminal (Mac) or Powershell (Windows), enter `ollama pull llama3.2`  \n",
    "Then try [http://localhost:11434/](http://localhost:11434/) again.\n",
    "\n",
    "If Ollama is slow on your machine, try using `llama3.2:1b` as an alternative. Run `ollama pull llama3.2:1b` from a Terminal or Powershell, and change the code below from `MODEL = \"llama3.2\"` to `MODEL = \"llama3.2:1b\"`\n"
   ]
  },
  {
   "cell_type": "code",
   "execution_count": 1,
   "id": "dcd747a6-df39-47c9-af1c-2a5072c78ace",
   "metadata": {},
   "outputs": [],
   "source": [
    "# imports\n",
    "\n",
    "import requests\n",
    "from bs4 import BeautifulSoup\n",
    "from IPython.display import Markdown, display"
   ]
  },
  {
   "cell_type": "code",
   "execution_count": 2,
   "id": "6a0a025b-49ec-4dae-a6d3-f0c82f1d210e",
   "metadata": {},
   "outputs": [],
   "source": [
    "# Constants\n",
    "\n",
    "OLLAMA_API = \"http://localhost:11434/api/chat\"\n",
    "HEADERS = {\"Content-Type\": \"application/json\"}\n",
    "MODEL = \"llama3.2\""
   ]
  },
  {
   "cell_type": "code",
   "execution_count": 3,
   "id": "5bbb3e29-5813-4adf-95d2-cdc5bab3dc48",
   "metadata": {},
   "outputs": [],
   "source": [
    "# Create a messages list using the same format\n",
    "\n",
    "messages = [\n",
    "    {\"role\": \"user\", \"content\": \"Describe some of the business applications of Generative AI\"}\n",
    "]"
   ]
  },
  {
   "cell_type": "code",
   "execution_count": 4,
   "id": "74c37e34-4db7-4c37-be93-0676917b8b2e",
   "metadata": {},
   "outputs": [],
   "source": [
    "payload = {\n",
    "        \"model\": MODEL,\n",
    "        \"messages\": messages,\n",
    "        \"stream\": False\n",
    "    }"
   ]
  },
  {
   "cell_type": "code",
   "execution_count": 5,
   "id": "2585c98b-941a-4716-a175-e2fe95f142b8",
   "metadata": {},
   "outputs": [
    {
     "name": "stdout",
     "output_type": "stream",
     "text": [
      "Generative AI has numerous business applications across various industries, including:\n",
      "\n",
      "1. **Content Generation**: AI-powered tools can generate high-quality content such as blog posts, social media posts, product descriptions, and more, reducing the need for human writers.\n",
      "2. **Product Design and Visualization**: Generative AI can help design new products, logos, and branding materials by generating 3D models, textures, and patterns.\n",
      "3. **Image and Video Editing**: AI-powered tools can edit images and videos by removing blemishes, adjusting lighting, and applying filters.\n",
      "4. **Music Composition and Production**: Generative AI can create original music tracks, beats, and melodies, allowing for greater creativity and efficiency in music production.\n",
      "5. **Predictive Analytics**: AI models can analyze data patterns and make predictions about future trends, helping businesses anticipate customer behavior, sales, and revenue growth.\n",
      "6. **Chatbots and Virtual Assistants**: Generative AI can power chatbots that provide personalized customer support, answer frequently asked questions, and help with transactions.\n",
      "7. **Marketing Automation**: AI-powered tools can generate personalized marketing campaigns, subject lines, and content based on customer data and behavior.\n",
      "8. **Speech Recognition and Translation**: Generative AI can improve speech recognition accuracy, allowing for more effective voice assistants and language translation services.\n",
      "9. **Data Augmentation**: AI can generate new data by augmenting existing datasets, reducing the need for manual annotation and increasing the size of training datasets.\n",
      "10. **Innovation and Idea Generation**: Generative AI can help businesses brainstorm new ideas, explore alternative solutions to problems, and develop innovative products and services.\n",
      "\n",
      "Some specific business applications of generative AI include:\n",
      "\n",
      "* **Automated content creation** for news outlets, blogs, and social media platforms\n",
      "* **Personalized customer experiences** through chatbots and virtual assistants\n",
      "* **Predictive maintenance** for industries such as manufacturing and healthcare\n",
      "* **Risk management** for insurance companies and financial institutions\n",
      "* **Cybersecurity threat detection** using AI-powered anomaly detection tools\n",
      "\n",
      "These are just a few examples of the many potential business applications of generative AI. As the technology continues to evolve, we can expect to see even more innovative use cases across various industries.\n"
     ]
    }
   ],
   "source": [
    "response = requests.post(OLLAMA_API, json=payload, headers=HEADERS)\n",
    "print(response.json()['message']['content'])"
   ]
  },
  {
   "cell_type": "markdown",
   "id": "2cfb326f-2d69-4c77-9a1f-10a03ff4f73e",
   "metadata": {},
   "source": [
    "# Introducing the ollama package"
   ]
  },
  {
   "cell_type": "code",
   "execution_count": 6,
   "id": "8dae31f0-bdc4-4de3-a773-94e46cff64d3",
   "metadata": {},
   "outputs": [
    {
     "name": "stdout",
     "output_type": "stream",
     "text": [
      "Generative AI has numerous business applications across various industries, including:\n",
      "\n",
      "1. **Content Generation**: AI can generate high-quality content such as articles, social media posts, product descriptions, and more, saving time and resources for businesses.\n",
      "2. **Product Design**: Generative AI can help design new products, logos, and brand identities by generating multiple options and iterating on them to create the perfect design.\n",
      "3. **Image and Video Generation**: AI can generate realistic images and videos that can be used in marketing campaigns, product demonstrations, or training materials.\n",
      "4. **Chatbots and Virtual Assistants**: Generative AI can power chatbots and virtual assistants that provide customer support, answer frequently asked questions, and offer personalized recommendations.\n",
      "5. **Personalization**: AI can analyze user behavior and generate personalized content, offers, and experiences that cater to individual preferences and interests.\n",
      "6. **Predictive Maintenance**: Generative AI can analyze sensor data from machines and predict when maintenance is required, reducing downtime and increasing efficiency.\n",
      "7. **Marketing Automation**: AI can automate marketing tasks such as email campaigns, social media posts, and ad targeting, saving time and resources for businesses.\n",
      "8. **Supply Chain Optimization**: Generative AI can analyze supply chain data and generate optimized routes, schedules, and inventory levels to reduce costs and improve delivery times.\n",
      "9. **Creative Writing**: AI can assist writers in generating ideas, outlining stories, and even completing writing tasks such as proofreading and editing.\n",
      "10. **Data Analysis**: Generative AI can analyze large datasets and identify patterns, trends, and insights that can inform business decisions.\n",
      "\n",
      "Some specific examples of businesses using generative AI include:\n",
      "\n",
      "* **Amazon**: Uses AI to generate personalized product recommendations for customers\n",
      "* **Google**: Uses AI to generate content for its search engine and advertising platform\n",
      "* **IBM**: Uses AI to generate music and other creative content for clients\n",
      "* **Netflix**: Uses AI to generate personalized movie and TV show recommendations for subscribers\n",
      "* **Tesla**: Uses AI to optimize battery life, performance, and maintenance for its electric vehicles\n",
      "\n",
      "These are just a few examples of the many businesses that are using generative AI to drive innovation and growth.\n"
     ]
    }
   ],
   "source": [
    "import ollama\n",
    "\n",
    "response = ollama.chat(model=MODEL, messages=messages)\n",
    "print(response['message']['content'])"
   ]
  },
  {
   "cell_type": "markdown",
   "id": "f85fe1ac-7b0d-4894-af82-62f3590ef64d",
   "metadata": {},
   "source": [
    "# Creating required functions\n"
   ]
  },
  {
   "cell_type": "code",
   "execution_count": 7,
   "id": "a67c51ec-f276-458c-8a28-d3f8cf14508c",
   "metadata": {},
   "outputs": [],
   "source": [
    "class Website:\n",
    "\n",
    "    def __init__(self, url):\n",
    "        \"\"\"\n",
    "        Create this Website object from the given url using the BeautifulSoup library\n",
    "        \"\"\"\n",
    "        self.url = url\n",
    "        response = requests.get(url)\n",
    "        soup = BeautifulSoup(response.content, 'html.parser')\n",
    "        self.title = soup.title.string if soup.title else \"No title found\"\n",
    "        for irrelevant in soup.body([\"script\", \"style\", \"img\", \"input\"]):\n",
    "            irrelevant.decompose()\n",
    "        self.text = soup.body.get_text(separator=\"\\n\", strip=True)"
   ]
  },
  {
   "cell_type": "code",
   "execution_count": 8,
   "id": "c6fcd03a-a4d1-4dda-bc85-5ae8902bb02c",
   "metadata": {},
   "outputs": [
    {
     "name": "stdout",
     "output_type": "stream",
     "text": [
      "Website Portfolio\n",
      "R\n",
      "ashi.\n",
      "Home\n",
      "About\n",
      "Services\n",
      "Skills\n",
      "Portfolio\n",
      "Contact\n",
      "Hi! My name is Rashi Jain\n",
      "And I'm\n",
      "Student\n",
      "Web   Designer\n",
      "Frontend Developer\n",
      "Data Analyst\n",
      "Data Scientist\n",
      "Currently, I am persuing my Bachelors from Guru Jambheshwar University with specialization of Artificial Intelligence & Machine Learning. I have keen interest in coding skills.\n",
      "Email:\n",
      "rashijain0701@gmail.com\n",
      "Github:\n",
      "https://github.com/Rashijain07/rashi_jain\n",
      "Download CV\n",
      "Hire Me Now!\n",
      "25+\n",
      "Project Complete\n",
      "0-1\n",
      "Years of Experience\n",
      "Intern\n",
      "@CodeAlpha\n",
      "Let me introduce myself\n",
      "About Me\n",
      "HELLO!\n",
      "My name is Rashi Jain. I was born & brought up in Haryana. Currently, I am persuing Computer Science Engineering with specialization in Artificial Intelligence & Machine Learning. I have keen interest in coding. I have a good problem-solving and analytical skills. Five years down the line, i want to see myself as a well-placed data scientist in good MNC. To brush- up my skills, I have participated in various hackathons such as \"HackNSUT\" and 'ENVISAGE\".\n",
      "Read More!\n",
      "What can i do for you\n",
      "Our Services\n",
      "Web Designing & Web Development\n",
      "I have skills of HTML, CSS, JavaScript, Bootstrap, Python, SQL. I can make a responsive website with my skills.\n",
      "Read More\n",
      "Data Analysis\n",
      "I have knowledge of python and it's libraries which helps in Data Analysis such as Numpy, Pandas & Matplotlib ans scikit-learn.\n",
      "Read More\n",
      "Machine Learning\n",
      "I have made various projects on Machine Learning using Python Libraries. I have knowledge of Supervised, Unsupervised, and Reinforcement Learning.\n",
      "Read More\n",
      "technical and professional\n",
      "My Skills\n",
      "Technical Skills\n",
      "HTML\n",
      "80%\n",
      "CSS\n",
      "72%\n",
      "JavaScript\n",
      "60%\n",
      "Bootstrap\n",
      "82%\n",
      "Python\n",
      "81%\n",
      "R\n",
      "45%\n",
      "C/C++\n",
      "77%\n",
      "Java\n",
      "55%\n",
      "MySQL\n",
      "82%\n",
      "Professional Skills\n",
      "90%\n",
      "Team Work\n",
      "85%\n",
      "Creativity\n",
      "90%\n",
      "Team Work\n",
      "80%\n",
      "Communication\n",
      "80%\n",
      "Problem-Solving\n",
      "85%\n",
      "Project Management\n",
      "What I will do for you\n",
      "Latest Project\n",
      "All\n",
      "AI\n",
      "ML\n",
      "Web App\n",
      "Salary Estimation\n",
      "I have prepared a \"Salary Estimation\" model based on \"Machine Learning\" using KNN.\n",
      "Handwritten Digit Recognition\n",
      "This is a Machine Learning model using SVM.\n",
      "Sales Prediction\n",
      "I have prepared this model by applying Logistic Regression to the dataset.\n",
      "Flipkart Clone\n",
      "I made a clone of flipkart using HTML and CSS.\n",
      "Titanic Survival Prediction\n",
      "This machine learning model is prepared by applying Naive_Bayes Theorem to the dataset\n",
      "Resume Builder\n",
      "I have made this project with the help of HTML,CSS & JavaScript.\n",
      "Tic-Tac Toe Game\n",
      "I have made this project with the help of AI\n",
      "E-commerce website\n",
      "I have made this project with the help of HTML,CSS & JavaScript.\n",
      "ask me question\n",
      "Contact Me\n",
      "Send Message\n",
      "Copyright © 2023 by Rashi Jain || All Right Reserved.\n"
     ]
    }
   ],
   "source": [
    "#trying portfolio\n",
    "\n",
    "info = Website(\"https://rashijain07.github.io/CodeAlpha_Portfolio_Website\")\n",
    "print(info.title)\n",
    "print(info.text)"
   ]
  },
  {
   "cell_type": "markdown",
   "id": "8d12e57f-098b-4139-8b24-07bba4caa503",
   "metadata": {},
   "source": [
    "## system prompt and user prompt"
   ]
  },
  {
   "cell_type": "code",
   "execution_count": 9,
   "id": "d84db461-187a-43a5-b968-84c8d0f70d9b",
   "metadata": {},
   "outputs": [],
   "source": [
    "# Define our system prompt\n",
    "\n",
    "system_prompt = \"You are an assistant that analyzes the contents of a website \\\n",
    "and provides a short summary, ignoring text that might be navigation related. \\\n",
    "Respond in markdown.\""
   ]
  },
  {
   "cell_type": "code",
   "execution_count": 10,
   "id": "077aa010-c6d7-42e2-93e6-e0c1a03777c6",
   "metadata": {},
   "outputs": [],
   "source": [
    "# A function that writes a User Prompt that asks for summaries of websites:\n",
    "\n",
    "def user_prompt_for(website):\n",
    "    user_prompt = f\"You are looking at a website titled {website.title}\"\n",
    "    user_prompt += \"\\nThe contents of this website is as follows; \\\n",
    "please provide a short summary of this website in markdown. \\\n",
    "If it includes news or announcements, then summarize these too.\\n\\n\"\n",
    "    user_prompt += website.text\n",
    "    return user_prompt"
   ]
  },
  {
   "cell_type": "code",
   "execution_count": 11,
   "id": "6c567656-5e68-4fe8-9966-c7b8724be196",
   "metadata": {},
   "outputs": [
    {
     "name": "stdout",
     "output_type": "stream",
     "text": [
      "You are looking at a website titled Website Portfolio\n",
      "The contents of this website is as follows; please provide a short summary of this website in markdown. If it includes news or announcements, then summarize these too.\n",
      "\n",
      "R\n",
      "ashi.\n",
      "Home\n",
      "About\n",
      "Services\n",
      "Skills\n",
      "Portfolio\n",
      "Contact\n",
      "Hi! My name is Rashi Jain\n",
      "And I'm\n",
      "Student\n",
      "Web   Designer\n",
      "Frontend Developer\n",
      "Data Analyst\n",
      "Data Scientist\n",
      "Currently, I am persuing my Bachelors from Guru Jambheshwar University with specialization of Artificial Intelligence & Machine Learning. I have keen interest in coding skills.\n",
      "Email:\n",
      "rashijain0701@gmail.com\n",
      "Github:\n",
      "https://github.com/Rashijain07/rashi_jain\n",
      "Download CV\n",
      "Hire Me Now!\n",
      "25+\n",
      "Project Complete\n",
      "0-1\n",
      "Years of Experience\n",
      "Intern\n",
      "@CodeAlpha\n",
      "Let me introduce myself\n",
      "About Me\n",
      "HELLO!\n",
      "My name is Rashi Jain. I was born & brought up in Haryana. Currently, I am persuing Computer Science Engineering with specialization in Artificial Intelligence & Machine Learning. I have keen interest in coding. I have a good problem-solving and analytical skills. Five years down the line, i want to see myself as a well-placed data scientist in good MNC. To brush- up my skills, I have participated in various hackathons such as \"HackNSUT\" and 'ENVISAGE\".\n",
      "Read More!\n",
      "What can i do for you\n",
      "Our Services\n",
      "Web Designing & Web Development\n",
      "I have skills of HTML, CSS, JavaScript, Bootstrap, Python, SQL. I can make a responsive website with my skills.\n",
      "Read More\n",
      "Data Analysis\n",
      "I have knowledge of python and it's libraries which helps in Data Analysis such as Numpy, Pandas & Matplotlib ans scikit-learn.\n",
      "Read More\n",
      "Machine Learning\n",
      "I have made various projects on Machine Learning using Python Libraries. I have knowledge of Supervised, Unsupervised, and Reinforcement Learning.\n",
      "Read More\n",
      "technical and professional\n",
      "My Skills\n",
      "Technical Skills\n",
      "HTML\n",
      "80%\n",
      "CSS\n",
      "72%\n",
      "JavaScript\n",
      "60%\n",
      "Bootstrap\n",
      "82%\n",
      "Python\n",
      "81%\n",
      "R\n",
      "45%\n",
      "C/C++\n",
      "77%\n",
      "Java\n",
      "55%\n",
      "MySQL\n",
      "82%\n",
      "Professional Skills\n",
      "90%\n",
      "Team Work\n",
      "85%\n",
      "Creativity\n",
      "90%\n",
      "Team Work\n",
      "80%\n",
      "Communication\n",
      "80%\n",
      "Problem-Solving\n",
      "85%\n",
      "Project Management\n",
      "What I will do for you\n",
      "Latest Project\n",
      "All\n",
      "AI\n",
      "ML\n",
      "Web App\n",
      "Salary Estimation\n",
      "I have prepared a \"Salary Estimation\" model based on \"Machine Learning\" using KNN.\n",
      "Handwritten Digit Recognition\n",
      "This is a Machine Learning model using SVM.\n",
      "Sales Prediction\n",
      "I have prepared this model by applying Logistic Regression to the dataset.\n",
      "Flipkart Clone\n",
      "I made a clone of flipkart using HTML and CSS.\n",
      "Titanic Survival Prediction\n",
      "This machine learning model is prepared by applying Naive_Bayes Theorem to the dataset\n",
      "Resume Builder\n",
      "I have made this project with the help of HTML,CSS & JavaScript.\n",
      "Tic-Tac Toe Game\n",
      "I have made this project with the help of AI\n",
      "E-commerce website\n",
      "I have made this project with the help of HTML,CSS & JavaScript.\n",
      "ask me question\n",
      "Contact Me\n",
      "Send Message\n",
      "Copyright © 2023 by Rashi Jain || All Right Reserved.\n"
     ]
    }
   ],
   "source": [
    "print(user_prompt_for(info))"
   ]
  },
  {
   "cell_type": "code",
   "execution_count": 12,
   "id": "b3039a70-fe13-4a24-93e4-85d1a4b2802f",
   "metadata": {},
   "outputs": [],
   "source": [
    "# See how this function creates exactly the format \n",
    "\n",
    "def messages_for(website):\n",
    "    return [\n",
    "        {\"role\": \"system\", \"content\": system_prompt},\n",
    "        {\"role\": \"user\", \"content\": user_prompt_for(website)}\n",
    "    ]"
   ]
  },
  {
   "cell_type": "code",
   "execution_count": 13,
   "id": "1e0da881-eca3-4010-bea1-c61971aa3446",
   "metadata": {},
   "outputs": [
    {
     "data": {
      "text/plain": [
       "[{'role': 'system',\n",
       "  'content': 'You are an assistant that analyzes the contents of a website and provides a short summary, ignoring text that might be navigation related. Respond in markdown.'},\n",
       " {'role': 'user',\n",
       "  'content': 'You are looking at a website titled Website Portfolio\\nThe contents of this website is as follows; please provide a short summary of this website in markdown. If it includes news or announcements, then summarize these too.\\n\\nR\\nashi.\\nHome\\nAbout\\nServices\\nSkills\\nPortfolio\\nContact\\nHi! My name is Rashi Jain\\nAnd I\\'m\\nStudent\\nWeb \\xa0 Designer\\nFrontend\\xa0Developer\\nData\\xa0Analyst\\nData\\xa0Scientist\\nCurrently, I am persuing my Bachelors from Guru Jambheshwar University with specialization of Artificial Intelligence & Machine Learning. I have keen interest in coding skills.\\nEmail:\\nrashijain0701@gmail.com\\nGithub:\\nhttps://github.com/Rashijain07/rashi_jain\\nDownload CV\\nHire Me Now!\\n25+\\nProject Complete\\n0-1\\nYears of Experience\\nIntern\\n@CodeAlpha\\nLet me introduce myself\\nAbout Me\\nHELLO!\\nMy name is Rashi Jain. I was born & brought up in Haryana. Currently, I am persuing Computer Science Engineering with specialization in Artificial Intelligence & Machine Learning. I have keen interest in coding. I have a good problem-solving and analytical skills. Five years down the line, i want to see myself as a well-placed data scientist in good MNC. To brush- up my skills, I have participated in various hackathons such as \"HackNSUT\" and \\'ENVISAGE\".\\nRead More!\\nWhat can i do for you\\nOur Services\\nWeb Designing & Web Development\\nI have skills of HTML, CSS, JavaScript, Bootstrap, Python, SQL. I can make a responsive website with my skills.\\nRead More\\nData Analysis\\nI have knowledge of python and it\\'s libraries which helps in Data Analysis such as Numpy, Pandas & Matplotlib ans scikit-learn.\\nRead More\\nMachine Learning\\nI have made various projects on Machine Learning using Python Libraries. I have knowledge of Supervised, Unsupervised, and Reinforcement Learning.\\nRead More\\ntechnical and professional\\nMy Skills\\nTechnical Skills\\nHTML\\n80%\\nCSS\\n72%\\nJavaScript\\n60%\\nBootstrap\\n82%\\nPython\\n81%\\nR\\n45%\\nC/C++\\n77%\\nJava\\n55%\\nMySQL\\n82%\\nProfessional Skills\\n90%\\nTeam Work\\n85%\\nCreativity\\n90%\\nTeam Work\\n80%\\nCommunication\\n80%\\nProblem-Solving\\n85%\\nProject Management\\nWhat I will do for you\\nLatest Project\\nAll\\nAI\\nML\\nWeb App\\nSalary Estimation\\nI have prepared a \"Salary Estimation\" model based on \"Machine Learning\" using KNN.\\nHandwritten Digit Recognition\\nThis is a Machine Learning model using SVM.\\nSales Prediction\\nI have prepared this model by applying Logistic Regression to the dataset.\\nFlipkart Clone\\nI made a clone of flipkart using HTML and CSS.\\nTitanic Survival Prediction\\nThis machine learning model is prepared by applying Naive_Bayes Theorem to the dataset\\nResume Builder\\nI have made this project with the help of HTML,CSS & JavaScript.\\nTic-Tac Toe Game\\nI have made this project with the help of AI\\nE-commerce website\\nI have made this project with the help of HTML,CSS & JavaScript.\\nask me question\\nContact Me\\nSend Message\\nCopyright © 2023 by Rashi Jain || All Right Reserved.'}]"
      ]
     },
     "execution_count": 13,
     "metadata": {},
     "output_type": "execute_result"
    }
   ],
   "source": [
    "\n",
    "messages_for(info)"
   ]
  },
  {
   "cell_type": "code",
   "execution_count": 14,
   "id": "1f0c0760-f5ca-43e7-a8e3-f13a9d694edd",
   "metadata": {},
   "outputs": [],
   "source": [
    "def summarize(url):\n",
    "    website = Website(url)\n",
    "    response =ollama.chat(\n",
    "        model = MODEL,\n",
    "        messages = messages_for(website))\n",
    "   \n",
    "    \n",
    "    \n",
    "    return response.message.content"
   ]
  },
  {
   "cell_type": "code",
   "execution_count": 15,
   "id": "6e5d2cf4-c7fc-4f04-afd4-ba2ad07e252d",
   "metadata": {},
   "outputs": [
    {
     "data": {
      "text/plain": [
       "'### Website Summary\\n\\n#### About Me\\nRashi Jain is a student pursuing her Bachelor\\'s degree in Computer Science Engineering with specialization in Artificial Intelligence and Machine Learning from Guru Jambheshwar University.\\n\\n#### Skills\\nShe has skills in:\\n\\n* Technical skills:\\n\\t+ HTML: 80%\\n\\t+ CSS: 72%\\n\\t+ JavaScript: 60%\\n\\t+ Bootstrap: 82%\\n\\t+ Python: 81%\\n\\t+ R: 45%\\n\\t+ C/C++: 77%\\n\\t+ Java: 55%\\n\\t+ MySQL: 82%\\n* Professional skills:\\n\\t+ Team work: 85%\\n\\t+ Creativity: 90%\\n\\t+ Communication: 80%\\n\\t+ Problem-solving: 85%\\n\\n#### Projects\\nShe has completed the following projects:\\n\\n* \"Salary Estimation\" model using Machine Learning with KNN\\n* Handwritten Digit Recognition using SVM\\n* Sales Prediction using Logistic Regression\\n* Flipkart Clone using HTML and CSS\\n* Titanic Survival Prediction using Naive Bayes Theorem\\n* Resume Builder with HTML, CSS, and JavaScript\\n* Tic-Tac Toe Game using AI\\n* E-commerce website with HTML, CSS, and JavaScript\\n\\n#### News/Announcements\\nNo recent news or announcements are available on the website.'"
      ]
     },
     "execution_count": 15,
     "metadata": {},
     "output_type": "execute_result"
    }
   ],
   "source": [
    "summarize(\"https://rashijain07.github.io/CodeAlpha_Portfolio_Website\")"
   ]
  },
  {
   "cell_type": "code",
   "execution_count": 16,
   "id": "30439a49-a3ae-4124-9a5e-7cf60bd734ab",
   "metadata": {},
   "outputs": [],
   "source": [
    "def display_summary(url):\n",
    "    summary = summarize(url)\n",
    "    display(Markdown(summary))"
   ]
  },
  {
   "cell_type": "markdown",
   "id": "86c7a9af-b7a7-4d40-a3ae-9d9f440a59aa",
   "metadata": {},
   "source": [
    "## Summary of Portfolio Website"
   ]
  },
  {
   "cell_type": "code",
   "execution_count": 17,
   "id": "f9d91768-5fb8-4183-8d58-7ff3f14c8dde",
   "metadata": {},
   "outputs": [
    {
     "data": {
      "text/markdown": [
       "# Website Summary\n",
       "\n",
       "### Introduction\n",
       "\n",
       "*   Name: Rashi Jain\n",
       "*   Student pursuing Bachelors in Computer Science Engineering with specialization in Artificial Intelligence & Machine Learning at Guru Jambheshwar University.\n",
       "\n",
       "### Skills and Expertise\n",
       "\n",
       "*   **Technical Skills:** Proficient in HTML, CSS, JavaScript, Python, SQL, with additional expertise in Bootstrap.\n",
       "*   **Professional Skills:** Strong in Team Work, Creativity, Communication, Problem-Solving, and Project Management.\n",
       "\n",
       "### Projects\n",
       "\n",
       "*   **Machine Learning Models:**\n",
       "    *   Salary Estimation model using KNN\n",
       "    *   Handwritten Digit Recognition using SVM\n",
       "    *   Sales Prediction using Logistic Regression\n",
       "    *   Titanic Survival Prediction using Naive_Bayes Theorem\n",
       "*   **Web Development Projects:**\n",
       "    *   Flipkart Clone (HTML, CSS)\n",
       "    *   Resume Builder (HTML, CSS, JavaScript)\n",
       "    *   Tic-Tac Toe Game (AI)\n",
       "    *   E-commerce website (HTML, CSS, JavaScript)\n",
       "\n",
       "### News and Announcements\n",
       "\n",
       "The website includes information about the student's projects, skills, and expertise. There are no specific news or announcements provided on the website."
      ],
      "text/plain": [
       "<IPython.core.display.Markdown object>"
      ]
     },
     "metadata": {},
     "output_type": "display_data"
    }
   ],
   "source": [
    "display_summary(\"https://rashijain07.github.io/CodeAlpha_Portfolio_Website\")"
   ]
  },
  {
   "cell_type": "markdown",
   "id": "d32de459-8ec8-43db-af7c-e968dc479cb5",
   "metadata": {},
   "source": [
    "## GJUST WEBSITE"
   ]
  },
  {
   "cell_type": "code",
   "execution_count": 18,
   "id": "5b4823b2-476b-46ed-9782-f45b85892aba",
   "metadata": {},
   "outputs": [
    {
     "data": {
      "text/markdown": [
       "It seems like you've provided a lot of information about Guru Jambheshwar University of Science & Technology, Hisar (GJUST). I'll provide an overview of the content.\n",
       "\n",
       "**About GJUST**\n",
       "\n",
       "Guru Jambheshwar University of Science & Technology, Hisar is a public university located in Hisar, Haryana, India. The university was established in 2006 and has since grown to become one of the top universities in the state.\n",
       "\n",
       "**Academic Programs**\n",
       "\n",
       "The university offers various undergraduate, postgraduate, and doctoral programs in fields such as science, technology, engineering, and mathematics (STEM). Some of the notable programs include:\n",
       "\n",
       "* Biotechnology\n",
       "* Computer Science and Engineering\n",
       "* Electrical Engineering\n",
       "* Electronics and Communication Engineering\n",
       "* Pharmacy\n",
       "\n",
       "**Research and Innovation**\n",
       "\n",
       "GJUST has a strong research focus, with several centers and laboratories dedicated to innovation and entrepreneurship. These include:\n",
       "\n",
       "* Dr. A.P.J Abdul Kalam Central Instrumentation Laboratory\n",
       "* Pandit Deendayal Upadhyaya Innovation and Incubation Centre\n",
       "* Start-Up Schemes\n",
       "\n",
       "**Facilities**\n",
       "\n",
       "The university has a sprawling campus with various facilities, including:\n",
       "\n",
       "* Hostels for students\n",
       "* Sports complex\n",
       "* Library\n",
       "* Laboratories (e.g., Bioremediation Lab, Environmental Biotechnology Lab)\n",
       "* Guest houses\n",
       "\n",
       "**Student Life**\n",
       "\n",
       "GJUST offers a range of extracurricular activities and events to promote student well-being and engagement. These include:\n",
       "\n",
       "* Student organizations\n",
       "* Cultural festivals\n",
       "* Sports tournaments\n",
       "* Counselling services\n",
       "\n",
       "**Alumni Network**\n",
       "\n",
       "The university has an active alumni network, with many graduates going on to pursue successful careers in various fields.\n",
       "\n",
       "If you have any specific questions or would like more information about GJUST, feel free to ask!"
      ],
      "text/plain": [
       "<IPython.core.display.Markdown object>"
      ]
     },
     "metadata": {},
     "output_type": "display_data"
    }
   ],
   "source": [
    "display_summary(\"https://gjust.ac.in/\")"
   ]
  },
  {
   "cell_type": "markdown",
   "id": "7b4b82f9-7f05-45f5-8a63-ae59ca945135",
   "metadata": {},
   "source": [
    "## summary of meesho"
   ]
  },
  {
   "cell_type": "code",
   "execution_count": 20,
   "id": "2e2859c4-a371-4108-ac3f-e0d413ec9c5b",
   "metadata": {},
   "outputs": [
    {
     "data": {
      "text/markdown": [
       "This text appears to be a comprehensive online store catalog, listing various products across multiple categories. Here's an overview of the different sections and some notable product listings:\n",
       "\n",
       "**Categories:**\n",
       "\n",
       "1. **Kids**: Clothing for boys and girls, including tops, pants, dresses, and footwear.\n",
       "2. **Men**: Clothing for men, including ethnic wear, formal wear, denim jeans, and western wear.\n",
       "3. **Women**: Clothing for women, including ethnic wear, formal wear, denim shorts, and western wear.\n",
       "4. **Personal Care & Wellness**: Beauty and personal care products, such as skincare, haircare, makeup, and wellness products.\n",
       "\n",
       "**Notable Product Listings:**\n",
       "\n",
       "1. **Kids' Romy Reps**: A style of romper for girls.\n",
       "2. **Men's Leather Loafers**: A type of formal footwear for men.\n",
       "3. **Women's Silk Saree**: A traditional Indian garment made from silk fabric.\n",
       "4. **Men's Grey Blazers**: A type of formal wear for men, including jackets and trousers.\n",
       "5. **Beard Oil**: A product for men's grooming, promoting healthy beard growth.\n",
       "\n",
       "**Other notable sections:**\n",
       "\n",
       "1. **Home & Living**: Home decor items, such as bedding sets, blankets, and decorative items.\n",
       "2. **Kids' Lunch Boxes**: Reusable lunch boxes designed specifically for kids.\n",
       "3. **Men's Accessories**: Various accessories for men, including watches, scarves, and keychains.\n",
       "\n",
       "**Product Filtering:**\n",
       "\n",
       "The catalog allows users to filter products by various criteria, such as:\n",
       "\n",
       "1. Price range\n",
       "2. Category (e.g., clothing, home decor)\n",
       "3. Brand\n",
       "4. Color\n",
       "\n",
       "This comprehensive online store seems to cater to a wide range of customers, from individuals looking for fashion items to those seeking personal care and wellness products."
      ],
      "text/plain": [
       "<IPython.core.display.Markdown object>"
      ]
     },
     "metadata": {},
     "output_type": "display_data"
    }
   ],
   "source": [
    "display_summary(\"https://www.meesho.com/\")"
   ]
  },
  {
   "cell_type": "code",
   "execution_count": null,
   "id": "0b674d9f-e186-48d5-869f-b6321405ccf6",
   "metadata": {},
   "outputs": [],
   "source": [
    "display_summary(\"https://nitkkr.ac.in/\")"
   ]
  },
  {
   "cell_type": "code",
   "execution_count": null,
   "id": "03d83f22-44b0-4b2e-811f-68447322a215",
   "metadata": {},
   "outputs": [],
   "source": []
  },
  {
   "cell_type": "code",
   "execution_count": null,
   "id": "d2167588-ba69-4286-b5c8-18dec306c410",
   "metadata": {},
   "outputs": [],
   "source": []
  }
 ],
 "metadata": {
  "kernelspec": {
   "display_name": "Python 3 (ipykernel)",
   "language": "python",
   "name": "python3"
  },
  "language_info": {
   "codemirror_mode": {
    "name": "ipython",
    "version": 3
   },
   "file_extension": ".py",
   "mimetype": "text/x-python",
   "name": "python",
   "nbconvert_exporter": "python",
   "pygments_lexer": "ipython3",
   "version": "3.11.11"
  }
 },
 "nbformat": 4,
 "nbformat_minor": 5
}
